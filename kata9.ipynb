{
 "cells": [
  {
   "cell_type": "markdown",
   "metadata": {},
   "source": [
    "*Realizado por Abad Velazquez Fuentes*"
   ]
  },
  {
   "cell_type": "markdown",
   "metadata": {},
   "source": [
    "# Ejercicio 1: Trabajar con argumentos en funciones en Python\n",
    "En este ejercicio, construirás un informe de combustible que requiere información de varias ubicaciones de combustible en todo el cohete.\n",
    "\n",
    "1. Comienza por crear una función que necesite tres lecturas de combustible y devuelva un informe.\n",
    "2. Una vez definida la función de informes, se debe de comprobar su funcionamiento. Considere que para esta misión, los tanques no están llenos.\n",
    "3. En lugar de simplemente crear el informe, la función también está calculando el promedio. Mejora la legibilidad extrayendo el cálculo promedio de la función en una nueva función para que el promedio se pueda hacer de forma independiente.\n",
    "4. Actualiza la función de informes haciendo que llame a la nueva función del promedio."
   ]
  },
  {
   "cell_type": "code",
   "execution_count": 28,
   "metadata": {},
   "outputs": [],
   "source": [
    "# 1 Función de informe (reporte) para leer 3 tanques de combustible y muestre el promedio\n",
    "def report (tanquePrincipal, tanqueExterno, tanqueHidrogeno): \n",
    "    return f\"\"\"{'-'*60}\n",
    "    \\t\\t\\tFUEL REPORT:\n",
    "    Main tank: {tanquePrincipal}%\n",
    "    External tank: {tanqueExterno}%\n",
    "    Hydrogen tank: {tanqueHidrogeno}%\n",
    "    Average Total: {(tanquePrincipal+tanqueExterno+tanqueHidrogeno)/3}%\\n{'-'*60}\"\"\""
   ]
  },
  {
   "cell_type": "code",
   "execution_count": 30,
   "metadata": {},
   "outputs": [
    {
     "name": "stdout",
     "output_type": "stream",
     "text": [
      "------------------------------------------------------------\n",
      "    \t\t\tFUEL REPORT:\n",
      "    Main tank: 85%\n",
      "    External tank: 71%\n",
      "    Hydrogen tank: 80%\n",
      "    Average Total: 78.66666666666667%\n",
      "------------------------------------------------------------\n"
     ]
    }
   ],
   "source": [
    "# 2. Llamado de la función que genera el reporte \n",
    "print(report(85, 71, 80))"
   ]
  },
  {
   "cell_type": "code",
   "execution_count": 39,
   "metadata": {},
   "outputs": [
    {
     "data": {
      "text/plain": [
       "78.66666666666667"
      ]
     },
     "execution_count": 39,
     "metadata": {},
     "output_type": "execute_result"
    }
   ],
   "source": [
    "# 3. Función para calcular el promedio de 3 numeros\n",
    "def promedio(a,b,c):\n",
    "    return (a+b+c)/3 #retorna el promedio\n",
    "\n",
    "# Pruebe la función de promedio\n",
    "promedio(85, 71, 80)"
   ]
  },
  {
   "cell_type": "code",
   "execution_count": 38,
   "metadata": {},
   "outputs": [
    {
     "name": "stdout",
     "output_type": "stream",
     "text": [
      "------------------------------------------------------------\n",
      "    \t\t\tFUEL REPORT:\n",
      "    Main tank: 85%\n",
      "    External tank: 71%\n",
      "    Hydrogen tank: 80%\n",
      "    Average Total: 78.66666666666667%\n",
      "------------------------------------------------------------\n"
     ]
    }
   ],
   "source": [
    "# Actualiza la función informe\n",
    "def report (tanquePrincipal, tanqueExterno, tanqueHidrogeno): \n",
    "    return f\"\"\"{'-'*60}\n",
    "    \\t\\t\\tFUEL REPORT:\n",
    "    Main tank: {tanquePrincipal}%\n",
    "    External tank: {tanqueExterno}%\n",
    "    Hydrogen tank: {tanqueHidrogeno}%\n",
    "    Average Total: {promedio(tanquePrincipal,tanqueExterno,tanqueHidrogeno)}%\\n{'-'*60}\"\"\"\n",
    "\n",
    "# Test función informe (actulizado)\n",
    "print(report(85, 71, 80))"
   ]
  },
  {
   "cell_type": "markdown",
   "metadata": {},
   "source": [
    "# Ejercicio 2: Trabajar con argumentos de palabras clave en funciones\n",
    "En este ejercicio, construirás un informe de cohete que requiere varias piezas de información, como el tiempo hasta el destino, el combustible a la izquierda y el nombre del destino.\n",
    "\n",
    "Para ello crear una función que creará un informe preciso de la misión. Considera hora de prelanzamiento, tiempo de vuelo, destino, tanque externo y tanque interno."
   ]
  },
  {
   "cell_type": "code",
   "execution_count": 52,
   "metadata": {},
   "outputs": [
    {
     "name": "stdout",
     "output_type": "stream",
     "text": [
      "------------------------------------------------------------\n",
      "    \t\t\tMission to Moon\n",
      "    Total travel time: 65 minutes\n",
      "    Fuel available: 500000 gallons\n",
      "------------------------------------------------------------\n",
      "    \n"
     ]
    }
   ],
   "source": [
    "# 1. Función con un informe preciso de la misión.\n",
    "def reporte_de_mision(hora_prelanzamiento, tiempo_vuelo, destino, tank_externo, tank_interno):\n",
    "    return f\"\"\"{'-'*60}\n",
    "    \\t\\t\\tMission to {destino}\n",
    "    Total travel time: { hora_prelanzamiento + tiempo_vuelo} minutes\n",
    "    Fuel available: {tank_interno + tank_externo} gallons\\n{'-'*60}\n",
    "    \"\"\"\n",
    "\n",
    "# Test funsion reporte_de_mision\n",
    "print(reporte_de_mision(14, 51, \"Moon\", 200000, 300000))"
   ]
  },
  {
   "cell_type": "markdown",
   "metadata": {},
   "source": [
    "La función es problemática porque no se puede adaptar para minutos adicionales o tanques adicionales de combustible. Hazlo más flexible permitiendo cualquier número de pasos basados en el tiempo y cualquier número de tanques. En lugar de usar `*args` y `**kwargs`, aprovecha el hecho de que puedes usar cualquier nombre que desees. Asegurate que la función sea más legible mediante el uso de nombres de variables que están asociados con las entradas, como `*minutes` y `**fuel_reservoirs`:"
   ]
  },
  {
   "cell_type": "code",
   "execution_count": 53,
   "metadata": {},
   "outputs": [
    {
     "name": "stdout",
     "output_type": "stream",
     "text": [
      "------------------------------------------------------------\n",
      "    \t\t\tMission to Moon\n",
      "    Total travel time: 75 minutes\n",
      "    Fuel available: 500000 gallons\n",
      "------------------------------------------------------------\n",
      "    \n"
     ]
    }
   ],
   "source": [
    "# Nueva función de reporte considerando lo anterior\n",
    "def reporte_de_mision(destino, *minutes, **fuel_reservoirs):\n",
    "    return f\"\"\"{'-'*60}\n",
    "    \\t\\t\\tMission to {destino}\n",
    "    Total travel time: {sum(minutes)} minutes\n",
    "    Fuel available: {sum(fuel_reservoirs.values())} gallons\\n{'-'*60}\n",
    "    \"\"\"\n",
    "\n",
    "# Test funsion reporte_de_mision\n",
    "print(reporte_de_mision(\"Moon\", 14, 51, 10, interno=200000, externo=300000))"
   ]
  },
  {
   "cell_type": "markdown",
   "metadata": {},
   "source": [
    "Debido a que el combustible que queda en los tanques es específico de cada tanque, actualiza la función para usar el nombre de cada tanque en el informe:"
   ]
  },
  {
   "cell_type": "code",
   "execution_count": 63,
   "metadata": {},
   "outputs": [
    {
     "name": "stdout",
     "output_type": "stream",
     "text": [
      "------------------------------------------------------------\n",
      "    \t\t\tMission to Moon\n",
      "    Total travel time: 75 minutes\n",
      "    Fuel available: 500000 gallons\n",
      "    main tack ---> 200000 gallons left\n",
      "    external tack ---> 300000 gallons left\n",
      "------------------------------------------------------------\n"
     ]
    }
   ],
   "source": [
    "# nueva función\n",
    "def reporte_de_mision(destino, *minutes, **fuel_reservoirs):\n",
    "    text = f\"\"\"{'-'*60}\n",
    "    \\t\\t\\tMission to {destino}\n",
    "    Total travel time: {sum(minutes)} minutes\n",
    "    Fuel available: {sum(fuel_reservoirs.values())} gallons\"\"\"\n",
    "\n",
    "    for nom_tank, galones in fuel_reservoirs.items():\n",
    "        text += f'\\n    {nom_tank} tack ---> {galones} gallons left' \n",
    "\n",
    "    text +=f\"\\n{'-'*60}\"\n",
    "    return text\n",
    "\n",
    "# Test funsion reporte_de_mision actualizado\n",
    "print(reporte_de_mision(\"Moon\", 14, 51, 10, main=200000, external=300000))\n"
   ]
  },
  {
   "cell_type": "markdown",
   "metadata": {},
   "source": []
  }
 ],
 "metadata": {
  "interpreter": {
   "hash": "9bf2ca0f4a7adc3ce2f237ca763c1538d3ef289a4e7face3612a01cdae9f6807"
  },
  "kernelspec": {
   "display_name": "Python 3.10.1 64-bit",
   "language": "python",
   "name": "python3"
  },
  "language_info": {
   "codemirror_mode": {
    "name": "ipython",
    "version": 3
   },
   "file_extension": ".py",
   "mimetype": "text/x-python",
   "name": "python",
   "nbconvert_exporter": "python",
   "pygments_lexer": "ipython3",
   "version": "3.10.1"
  },
  "orig_nbformat": 4
 },
 "nbformat": 4,
 "nbformat_minor": 2
}

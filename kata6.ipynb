{
 "cells": [
  {
   "cell_type": "markdown",
   "metadata": {},
   "source": [
    "*Realizado por Abad Velazquez Fuentes*"
   ]
  },
  {
   "cell_type": "markdown",
   "metadata": {},
   "source": [
    "# Ejercicio 1: Crear y usar listas de Python para almacenar nombres de planetas\n",
    "Para ello ...\n",
    "1. Crear una variable denominada _planets_ y agrega los ocho planetas (sin Plutón) a la lista. Posteriormente muestra el número de planetas.\n",
    "2. Agrega a Plutón a la lista que creaste. Luego muestra tanto el número de planetas como el último planeta de la lista.\n"
   ]
  },
  {
   "cell_type": "code",
   "execution_count": 2,
   "metadata": {},
   "outputs": [
    {
     "name": "stdout",
     "output_type": "stream",
     "text": [
      "There are 8 planets, which are ['Mercury', 'Venus', 'Earth', 'Mars', 'Jupiter', 'Saturn', 'Uranus', 'Neptune']\n"
     ]
    }
   ],
   "source": [
    "# Creación la lista planets y se muestra en pantalla\n",
    "\n",
    "planets = ['Mercury', 'Venus', 'Earth', 'Mars', 'Jupiter', 'Saturn', 'Uranus', 'Neptune'] \n",
    "\n",
    "print(f'There are {len(planets)} planets, which are {str(planets)}')"
   ]
  },
  {
   "cell_type": "code",
   "execution_count": 4,
   "metadata": {},
   "outputs": [
    {
     "name": "stdout",
     "output_type": "stream",
     "text": [
      "Pluton is the last planet\n"
     ]
    }
   ],
   "source": [
    "# Agregación de plutón y se muestra el último elemento de la lista\n",
    "\n",
    "planets.append('Pluton')\n",
    "\n",
    "print(planets[-1], 'is the last planet')"
   ]
  },
  {
   "cell_type": "markdown",
   "metadata": {},
   "source": [
    "# Ejercicio 2: Trabajando con datos de una lista\n",
    "Usar slices para recuperar partes de una lista.\n",
    "Esto es dado a que se requierem mostrar planetas más cerca y más lejos del sol de un planeta que el usuario ingresa por teclado."
   ]
  },
  {
   "cell_type": "code",
   "execution_count": 5,
   "metadata": {},
   "outputs": [],
   "source": [
    "# Lista de planetas\n",
    "planets = ['Mercury', 'Venus', 'Earth', 'Mars', 'Jupiter', 'Saturn', 'Neptune']"
   ]
  },
  {
   "cell_type": "code",
   "execution_count": 28,
   "metadata": {},
   "outputs": [],
   "source": [
    "# Solicitud del nombre de un planeta \n",
    "planet =  input('Provide the name of a planet (please use a capital letter to start the name of the planet)')"
   ]
  },
  {
   "cell_type": "code",
   "execution_count": 29,
   "metadata": {},
   "outputs": [],
   "source": [
    "# Busca la posición del planeta leido en la lista de planetas\n",
    "# para este proceso se valida que el planeta leido este en la lista da planetas\n",
    "# para ello se hace uso de una bandera\n",
    "# band==0 - esta todo bien, \n",
    "# band==1 - el planeta dado por el usauario no esta en la lista de planetas\n",
    "\n",
    "band = 0 # definicion de la bandera\n",
    "planet_pos = -1 # definicion de la posicion del planeta\n",
    "if planet in planets:\n",
    "    planet_pos = planets.index(planet)\n",
    "else:\n",
    "    band=1"
   ]
  },
  {
   "cell_type": "code",
   "execution_count": 30,
   "metadata": {},
   "outputs": [
    {
     "name": "stdout",
     "output_type": "stream",
     "text": [
      "Here are the su's closest planets from Earth \n",
      " ['Mercury', 'Venus']\n"
     ]
    }
   ],
   "source": [
    "# Muestra los planetas más cercanos al sol que el que el usuario ingresó\n",
    "if band == 0: # si la bandera es 0, todo esta bien    \n",
    "    print(f\"Here are the su's closest planets from {planet} \\n {planets[0:planet_pos]}\")\n",
    "else: #si la band es 1, el planata leido no esa en la list de planets\n",
    "    print(f\"Planet {planet} is not on our list of planets \\n :(\")"
   ]
  },
  {
   "cell_type": "code",
   "execution_count": 31,
   "metadata": {},
   "outputs": [
    {
     "name": "stdout",
     "output_type": "stream",
     "text": [
      "Here are the su's closest planets from Earth \n",
      " ['Mars', 'Jupiter', 'Saturn', 'Neptune']\n"
     ]
    }
   ],
   "source": [
    "# Muestra los planetas más lejanos al sol  que el que el usuario ingresó\n",
    "\n",
    "if band == 0: # si la bandera es 0, todo esta bien    \n",
    "    print(f\"Here are the su's closest planets from {planet} \\n {planets[planet_pos+1:]}\")\n",
    "else: #si la band es 1, el planata leido no esa en la list de planets\n",
    "    print(f\"Planet {planet} is not on our list of planets \\n :(\")"
   ]
  }
 ],
 "metadata": {
  "interpreter": {
   "hash": "9bf2ca0f4a7adc3ce2f237ca763c1538d3ef289a4e7face3612a01cdae9f6807"
  },
  "kernelspec": {
   "display_name": "Python 3.10.1 64-bit",
   "language": "python",
   "name": "python3"
  },
  "language_info": {
   "codemirror_mode": {
    "name": "ipython",
    "version": 3
   },
   "file_extension": ".py",
   "mimetype": "text/x-python",
   "name": "python",
   "nbconvert_exporter": "python",
   "pygments_lexer": "ipython3",
   "version": "3.10.1"
  },
  "orig_nbformat": 4
 },
 "nbformat": 4,
 "nbformat_minor": 2
}

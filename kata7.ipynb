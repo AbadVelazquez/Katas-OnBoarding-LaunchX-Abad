{
 "cells": [
  {
   "cell_type": "markdown",
   "metadata": {},
   "source": [
    "*Realizado por Abad Velazquez Fuentes*"
   ]
  },
  {
   "cell_type": "markdown",
   "metadata": {},
   "source": [
    "# Ejercicio 1: Uso de ciclos \"while\" en Python\n",
    "Crear una aplicación en python que solicite a un usuario que ingrese una lista de planetas. En un ejercicio posterior, agregarás código que muestre la lista. Por ahora, crearás solo el código que solicita al usuario la lista de planetas.\n",
    "\n",
    "En esta ejercicio, el programa debe de solicitar al usuario que ingrese un nuevo nombre de planeta varias veces hasta que el usiario escriba _\"done\"_ lo cual undicará que ha terminado de ingresar nombres de planetas, todo esto mediante un _ciclo while_."
   ]
  },
  {
   "cell_type": "code",
   "execution_count": 1,
   "metadata": {},
   "outputs": [],
   "source": [
    "# Declaración de variables\n",
    "new_planet = '' #nombre del planeta dado por el usuario\n",
    "planets =[] #lista de planetas"
   ]
  },
  {
   "cell_type": "code",
   "execution_count": 2,
   "metadata": {},
   "outputs": [],
   "source": [
    "# Ciclo while para la lectura de planetas\n",
    "while new_planet != 'done':\n",
    "    new_planet = input('Proporcione un planeta: ')\n",
    "    if new_planet != 'done':\n",
    "        planets.append(new_planet)"
   ]
  },
  {
   "cell_type": "markdown",
   "metadata": {},
   "source": [
    "# Ejercicio 2: Uso de un ciclo \"for\"\n",
    "En este ejercicio, completarás la aplicación escribiendo código que muestre los nombres de esos planetas medinate el uso de un cliclo _\"for\"_."
   ]
  },
  {
   "cell_type": "code",
   "execution_count": 6,
   "metadata": {},
   "outputs": [
    {
     "name": "stdout",
     "output_type": "stream",
     "text": [
      "La lista de planetas es:\n",
      " - Tierra\n",
      " - Marte\n",
      " - Jupiter\n",
      " - Pluton\n"
     ]
    }
   ],
   "source": [
    "print('La lista de planetas es:')\n",
    "\n",
    "# for para iterar en una lista de planetas\n",
    "for planet in planets:\n",
    "    print(' - '+planet)"
   ]
  }
 ],
 "metadata": {
  "interpreter": {
   "hash": "9bf2ca0f4a7adc3ce2f237ca763c1538d3ef289a4e7face3612a01cdae9f6807"
  },
  "kernelspec": {
   "display_name": "Python 3.10.1 64-bit",
   "language": "python",
   "name": "python3"
  },
  "language_info": {
   "codemirror_mode": {
    "name": "ipython",
    "version": 3
   },
   "file_extension": ".py",
   "mimetype": "text/x-python",
   "name": "python",
   "nbconvert_exporter": "python",
   "pygments_lexer": "ipython3",
   "version": "3.10.1"
  },
  "orig_nbformat": 4
 },
 "nbformat": 4,
 "nbformat_minor": 2
}

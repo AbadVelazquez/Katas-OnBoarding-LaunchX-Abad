{
 "cells": [
  {
   "cell_type": "markdown",
   "metadata": {},
   "source": [
    "*Realizado por Abad Velazquez Fuentes*"
   ]
  },
  {
   "cell_type": "markdown",
   "metadata": {},
   "source": [
    "# Ejercicio 1: Utilizar operadores aritméticos\n",
    "Crear un programa que pueda calcular la distancia entre dos planetas. Comenzaremos usando dos distancias de planetas: Tierra (149.597.870 km) y Júpiter (778.547.200 km)."
   ]
  },
  {
   "cell_type": "code",
   "execution_count": 2,
   "metadata": {},
   "outputs": [],
   "source": [
    "# Crear variables para almacenar las dos distancias\n",
    "dist_tierra = 149597870\n",
    "dist_jupiter = 778547200"
   ]
  },
  {
   "cell_type": "code",
   "execution_count": 5,
   "metadata": {},
   "outputs": [
    {
     "name": "stdout",
     "output_type": "stream",
     "text": [
      "La distancia que hay entre el planeta Tierra y Júpiter es de 628949330 km\n"
     ]
    }
   ],
   "source": [
    "# distancia en kilometros\n",
    "distancia_TierraJupiter = dist_jupiter - dist_tierra\n",
    "print(f\"La distancia que hay entre el planeta Tierra y Júpiter es de {distancia_TierraJupiter} km\")"
   ]
  },
  {
   "cell_type": "markdown",
   "metadata": {},
   "source": [
    "puedes convertir la distancia del kilómetro en millas multiplicándola por 0.621"
   ]
  },
  {
   "cell_type": "code",
   "execution_count": 6,
   "metadata": {},
   "outputs": [
    {
     "name": "stdout",
     "output_type": "stream",
     "text": [
      "La distancia que hay entre el planeta Tierra y Júpiter es de 390577533.93 millas\n"
     ]
    }
   ],
   "source": [
    "# distancia en millas\n",
    "distancia_TierraJupiter_milla = distancia_TierraJupiter * 0.621\n",
    "print(f\"La distancia que hay entre el planeta Tierra y Júpiter es de {distancia_TierraJupiter_milla} millas\")"
   ]
  },
  {
   "cell_type": "markdown",
   "metadata": {},
   "source": [
    "# Ejercicio 2: convierte cadenas en números y usa valores absolutos\n",
    "Crear una aplicación para trabajar con números y entrada de usuario. Para esta aplicación, se requiere leer la distancia del sol para dos planetas, y luego mostrar la distancia entre los planetas en kilometros y en millas."
   ]
  },
  {
   "cell_type": "code",
   "execution_count": 17,
   "metadata": {},
   "outputs": [],
   "source": [
    "# Lectura de las distancias de los planetas\n",
    "# Al misno tiempo se hace la conversión de las cadenas de ambos planetas a números enteros\n",
    "planet_uno = int(input('Distancia del sol para el primer planeta (en kimetros): ')) \n",
    "planet_dos = int(input('Distancia del sol para el segundo planeta (en kimetros): '))"
   ]
  },
  {
   "cell_type": "code",
   "execution_count": 18,
   "metadata": {},
   "outputs": [
    {
     "name": "stdout",
     "output_type": "stream",
     "text": [
      "La distancia que hay entre el 1er planeta y el 2do planeta es de 1375600000 km\n"
     ]
    }
   ],
   "source": [
    "# Se realizar el cálculo dela distancia de los planetas (en km), esto con valor absoluto\n",
    "distance_planets_km = abs(planet_uno - planet_dos)\n",
    "\n",
    "print(f\"La distancia que hay entre el 1er planeta y el 2do planeta es de {distance_planets_km} km\")"
   ]
  },
  {
   "cell_type": "code",
   "execution_count": 19,
   "metadata": {},
   "outputs": [
    {
     "name": "stdout",
     "output_type": "stream",
     "text": [
      "La distancia que hay entre el 1er planeta y el 2do planeta es de 854247600.0 millas\n"
     ]
    }
   ],
   "source": [
    "# Se convierte de KM a Millas\n",
    "distance_planets_mi = distance_planets_km * 0.621\n",
    "print(f\"La distancia que hay entre el 1er planeta y el 2do planeta es de {distance_planets_mi} millas\")"
   ]
  }
 ],
 "metadata": {
  "interpreter": {
   "hash": "9bf2ca0f4a7adc3ce2f237ca763c1538d3ef289a4e7face3612a01cdae9f6807"
  },
  "kernelspec": {
   "display_name": "Python 3.10.1 64-bit",
   "language": "python",
   "name": "python3"
  },
  "language_info": {
   "codemirror_mode": {
    "name": "ipython",
    "version": 3
   },
   "file_extension": ".py",
   "mimetype": "text/x-python",
   "name": "python",
   "nbconvert_exporter": "python",
   "pygments_lexer": "ipython3",
   "version": "3.10.1"
  },
  "orig_nbformat": 4
 },
 "nbformat": 4,
 "nbformat_minor": 2
}

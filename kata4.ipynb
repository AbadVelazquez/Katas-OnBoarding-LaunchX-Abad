{
 "cells": [
  {
   "cell_type": "markdown",
   "metadata": {},
   "source": [
    "*Realizado por Abad Velazquez Fuentes*"
   ]
  },
  {
   "cell_type": "markdown",
   "metadata": {},
   "source": [
    "# Ejercicio 1: Transformar cadenas\n",
    "En este ejercicio, usarás métodos de cadena para modificar el texto con hechos sobre la Luna y luego extraerás información para crear un breve resumen.\n",
    "\n",
    "El texto con el que trabajarás es el siguiente:"
   ]
  },
  {
   "cell_type": "code",
   "execution_count": null,
   "metadata": {},
   "outputs": [],
   "source": [
    "text = \"\"\"Interesting facts about the Moon. The Moon is Earth's only satellite. There are several interesting facts about the Moon and how it affects life here on Earth. \n",
    "On average, the Moon moves 4cm away from the Earth every year. This yearly drift is not significant enough to cause immediate effects on Earth. The highest daylight temperature of the Moon is 127 C.\"\"\""
   ]
  },
  {
   "cell_type": "markdown",
   "metadata": {},
   "source": [
    "1. Divide el texto en cada oración para trabajar con su contenido.\n",
    "2. Define algunas palabras clave para búsqueda que te ayudarán a determinar si una oración contiene un hecho.\n",
    "3. Cre un bucle para imprimir solo datos sobre la Luna que estén relacionados con las palabras clave definidas anteriormente.\n",
    "4. Actualiza el bucle(ciclo) para cambiar C a Celsius:"
   ]
  },
  {
   "cell_type": "code",
   "execution_count": null,
   "metadata": {},
   "outputs": [],
   "source": [
    "# 1. Division de cadena text por medio de un punto ('.')\n",
    "text_div = text.split('.')\n",
    "print(text_div)"
   ]
  },
  {
   "cell_type": "code",
   "execution_count": null,
   "metadata": {},
   "outputs": [],
   "source": [
    "# 2. Definicion de palabras clave (average, temperature y distance) a buscar para deterimar hechos\n",
    "key_words = [\"average\", \"temperature\", \"distance\"]"
   ]
  },
  {
   "cell_type": "code",
   "execution_count": null,
   "metadata": {},
   "outputs": [],
   "source": [
    "# 3. Bucle para mostrar datos relacionados con la Luna y las palablas claves\n",
    "\n",
    "#print(text+'\\n\\n keywords = ' + str(key_words) +'\\n')\n",
    "for i in text_div:\n",
    "    for j in key_words:\n",
    "        if j in i:\n",
    "            print(i)\n",
    "            break"
   ]
  },
  {
   "cell_type": "code",
   "execution_count": null,
   "metadata": {},
   "outputs": [],
   "source": [
    "# 4. Actualización de C a Celsius\n",
    "# Nota toda la acticalizacion se realiza en una nueva variable que es copia de la variable de texto dividido\n",
    "\n",
    "print('\\tTexto antes de la Actializacion\\ntext_div = \\n' + str(text_div) +'\\n')\n",
    "\n",
    "\n",
    "text_div_aux = text_div #nueva variable, copia de text_div\n",
    "\n",
    "#text_div es de class=list, por lo que ...\n",
    "tam = len(text_div_aux) # se obtiene el tamaño de la lista (de text_div)\n",
    "\n",
    "# Se recorre el for de 1=0 hasta la longitud de la list , (for(i=0; i<len(text_div), i++))\n",
    "for i in range(tam): \n",
    "    \n",
    "    # Se compara que el contenido de la variable text_div en las pos [i] tenga 'C'\n",
    "    if 'C' in text_div_aux[i]: \n",
    "        \n",
    "        #se estrae el dato a actualizar, con pop()\n",
    "        text_aux = str(text_div_aux.pop(i))   \n",
    "\n",
    "        #Se agrega en el de inice actual el dato actulizado, usando insert,\n",
    "        # con .replace se cambia el C por Celsius\n",
    "        text_div_aux.insert(i,(text_aux.replace(' C', ' Celsius')))\n",
    "        #print(str(text_div_aux[i]))       \n",
    "\n",
    "print('\\n\\n\\tTexto despues de la Actializacion\\ntext_div_Aux = \\n' + str(text_div_aux) +'\\n')"
   ]
  },
  {
   "cell_type": "markdown",
   "metadata": {},
   "source": [
    "# Ejercicio 2: Formateando Cadenas\n",
    "En este ejercicio, se utilizan variables que contienen datos clave sobre la gravedad en varias lunas y luego se utilizan para dar formato e imprimir la información.\n",
    "\n",
    "El formato tiene que acomodar información sobre otras lunas, por lo que debe ser genérico.\n",
    "\n",
    "En lugar de reemplazar las variables en una cadena larga como parte de un párrafo, utiliza la información para presentarla en un formato tabular. El resultado debería verse así:\n",
    "```\n",
    "Gravity Facts about Ganymede\n",
    "-------------------------------------------------------------------------------\n",
    "Planet Name: Mars\n",
    "Gravity on Ganymede: 1.4300000000000002 m/s2\n",
    "```"
   ]
  },
  {
   "cell_type": "code",
   "execution_count": null,
   "metadata": {},
   "outputs": [],
   "source": [
    "# Datos con los que vas a trabajar\n",
    "name = \"Moon\"\n",
    "gravity = 0.00162 # in kms\n",
    "planet = \"Earth\""
   ]
  },
  {
   "cell_type": "markdown",
   "metadata": {},
   "source": [
    "Para realizar este ejercicio, se debe de realizar:\n",
    "1. Crear un título para el texto. Debido a que este texto trata sobre la gravedad en la Tierra y la Luna, úsalo para crear un título significativo. Utiliza las variables en lugar de escribir.\n",
    "2. Crear una plantilla de cadena multilínea para contener el resto de la información. En lugar de usar kilómetros, debes convertir la distancia a metros multiplicando por 1,000.\n",
    "3. Usa ambas variables anteriores para unir el título y los hechos."
   ]
  },
  {
   "cell_type": "code",
   "execution_count": null,
   "metadata": {},
   "outputs": [],
   "source": [
    "# 1. Creacion del título\n",
    "title = f'Gravity on {planet} and the {name}'\n",
    "print(title)"
   ]
  },
  {
   "cell_type": "code",
   "execution_count": null,
   "metadata": {},
   "outputs": [],
   "source": [
    "# 2. Creacion de la plantilla\n",
    "hechos = f\"\"\"{'-'*80} \n",
    "Planet Name: {planet}\n",
    "Gravity on {name}: {gravity*1000} m/s2\"\"\"\n",
    "\n",
    "\n",
    "print(hechos)"
   ]
  },
  {
   "cell_type": "code",
   "execution_count": null,
   "metadata": {},
   "outputs": [],
   "source": [
    "# 3. Unión de ambas cadenas\n",
    "template_EarthMoon=f\"\"\"{title}\n",
    "{hechos}\"\"\"\n",
    "\n",
    "print(template_EarthMoon)"
   ]
  },
  {
   "cell_type": "markdown",
   "metadata": {},
   "source": [
    "Ahora usa información de una luna diferente para ver si la plantilla todavía funciona.\n",
    "\n",
    "Datos muestra:"
   ]
  },
  {
   "cell_type": "code",
   "execution_count": null,
   "metadata": {},
   "outputs": [],
   "source": [
    "planet = 'Marte'\n",
    "gravity  = 0.00143\n",
    "name = 'Ganímedes'"
   ]
  },
  {
   "cell_type": "code",
   "execution_count": null,
   "metadata": {},
   "outputs": [],
   "source": [
    "# Comprobación de la plantilla\n",
    "print(template_EarthMoon) "
   ]
  },
  {
   "cell_type": "markdown",
   "metadata": {},
   "source": [
    "La salida no muestra información sobre Marte. Todavía muestra información sobre la Luna. Esto sucede porque las cadenas f están ansiosas en su evaluación, por lo que las variables una vez asignadas no se pueden reasignar. Para evitar este problema, vuelva a hacer la plantilla para utilizar .format():"
   ]
  },
  {
   "cell_type": "code",
   "execution_count": 68,
   "metadata": {},
   "outputs": [
    {
     "name": "stdout",
     "output_type": "stream",
     "text": [
      "Gravity on Marte and the Ganímedes\n",
      "-------------------------------------------------------------------------------- \n",
      "Planet Name: Ganímedes\n",
      "Gravity on Moon: 1.4300000000000002 m/s2\n"
     ]
    }
   ],
   "source": [
    "# Nueva plantilla\n",
    "template_MarteGanímedes=\"\"\"Gravity on {0} and the {2}\n",
    "-------------------------------------------------------------------------------- \n",
    "Planet Name: {2}\n",
    "Gravity on Moon: {1} m/s2\"\"\".format(planet,gravity*1000,name)\n",
    "\n",
    "print(template_MarteGanímedes)"
   ]
  }
 ],
 "metadata": {
  "interpreter": {
   "hash": "9bf2ca0f4a7adc3ce2f237ca763c1538d3ef289a4e7face3612a01cdae9f6807"
  },
  "kernelspec": {
   "display_name": "Python 3.10.1 64-bit",
   "language": "python",
   "name": "python3"
  },
  "language_info": {
   "codemirror_mode": {
    "name": "ipython",
    "version": 3
   },
   "file_extension": ".py",
   "mimetype": "text/x-python",
   "name": "python",
   "nbconvert_exporter": "python",
   "pygments_lexer": "ipython3",
   "version": "3.10.1"
  },
  "orig_nbformat": 4
 },
 "nbformat": 4,
 "nbformat_minor": 2
}
